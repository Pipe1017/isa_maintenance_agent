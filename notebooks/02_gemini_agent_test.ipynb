{
 "cells": [
  {
   "cell_type": "code",
   "execution_count": 1,
   "id": "bec72c6c-2898-4af5-aa44-4b68e1fda256",
   "metadata": {},
   "outputs": [
    {
     "name": "stdout",
     "output_type": "stream",
     "text": [
      "✅ Datos cargados y limpiados exitosamente.\n",
      "DataFrame listo para el agente.\n"
     ]
    },
    {
     "name": "stderr",
     "output_type": "stream",
     "text": [
      "/var/folders/8p/q51pz9mn38d4_725jygnhwhh0000gn/T/ipykernel_9462/161736267.py:15: FutureWarning: A value is trying to be set on a copy of a DataFrame or Series through chained assignment using an inplace method.\n",
      "The behavior will change in pandas 3.0. This inplace method will never work because the intermediate object on which we are setting values always behaves as a copy.\n",
      "\n",
      "For example, when doing 'df[col].method(value, inplace=True)', try using 'df.method({col: value}, inplace=True)' or df[col] = df[col].method(value) instead, to perform the operation inplace on the original object.\n",
      "\n",
      "\n",
      "  df['indicador_abc'].fillna('No Especificado', inplace=True)\n"
     ]
    }
   ],
   "source": [
    "import pandas as pd\n",
    "import os\n",
    "\n",
    "def load_and_clean_data(filepath: str) -> pd.DataFrame:\n",
    "    \"\"\"Carga, limpia y prepara el DataFrame de avisos desde un archivo Excel.\"\"\"\n",
    "    try:\n",
    "        df = pd.read_excel(filepath)\n",
    "    except FileNotFoundError:\n",
    "        print(f\"¡ERROR! No se encontró el archivo con nombre: '{filepath}'\")\n",
    "        return None\n",
    "    df.columns = df.columns.str.lower().str.replace(' ', '_').str.replace('.', '', regex=False)\n",
    "    date_columns = ['creado_el', 'inicio_deseado', 'fin_deseado', 'fecha_de_cierre']\n",
    "    for col in date_columns:\n",
    "        df[col] = pd.to_datetime(df[col], errors='coerce')\n",
    "    df['indicador_abc'].fillna('No Especificado', inplace=True)\n",
    "    print(\"✅ Datos cargados y limpiados exitosamente.\")\n",
    "    return df\n",
    "\n",
    "df = load_and_clean_data('avisos_prueba_tecnica.xlsx')\n",
    "if df is not None:\n",
    "    print(\"DataFrame listo para el agente.\")"
   ]
  },
  {
   "cell_type": "code",
   "execution_count": 8,
   "id": "ae9f5106-73db-4aec-995a-b7188f038ef3",
   "metadata": {},
   "outputs": [
    {
     "name": "stderr",
     "output_type": "stream",
     "text": [
      "E0000 00:00:1760143566.473081 22313971 alts_credentials.cc:93] ALTS creds ignored. Not running on GCP and untrusted ALTS is not enabled.\n"
     ]
    },
    {
     "name": "stdout",
     "output_type": "stream",
     "text": [
      "\n",
      "\n",
      "\u001b[1m> Entering new AgentExecutor chain...\u001b[0m\n",
      "\u001b[32;1m\u001b[1;3mAction: python_repl_ast\n",
      "Action Input:\n",
      "df['creado_el'] = pd.to_datetime(df['creado_el'])\n",
      "avisos_2021 = df[df['creado_el'].dt.year == 2021]\n",
      "count_2021 = len(avisos_2021)\n",
      "print(count_2021)\u001b[0m\u001b[36;1m\u001b[1;3mNameError: name 'pd' is not defined\u001b[0m\u001b[32;1m\u001b[1;3mAction: python_repl_ast\n",
      "Action Input:\n",
      "import pandas as pd\n",
      "df['creado_el'] = pd.to_datetime(df['creado_el'])\n",
      "avisos_2021 = df[df['creado_el'].dt.year == 2021]\n",
      "count_2021 = len(avisos_2021)\n",
      "print(count_2021)\u001b[0m\u001b[36;1m\u001b[1;3m23\n",
      "\u001b[0m\u001b[32;1m\u001b[1;3mFinal Answer: 23\u001b[0m\n",
      "\n",
      "\u001b[1m> Finished chain.\u001b[0m\n",
      "\n",
      "\n",
      "--- RESPUESTA FINAL ---\n",
      "23\n"
     ]
    }
   ],
   "source": [
    "from langchain_google_genai import ChatGoogleGenerativeAI\n",
    "from langchain_experimental.agents.agent_toolkits import create_pandas_dataframe_agent\n",
    "from dotenv import load_dotenv\n",
    "import os\n",
    "\n",
    "# --- PREPARACIÓN DE LA API KEY ---\n",
    "# 1. Crea un archivo llamado '.env' en la carpeta raíz de tu proyecto.\n",
    "# 2. Dentro de ese archivo, escribe: GOOGLE_API_KEY=\"AIzaSy...tu_clave_aqui\"\n",
    "# 3. La siguiente línea carga esa clave de forma segura.\n",
    "load_dotenv('../.env')\n",
    "\n",
    "# 1. Inicializamos el Modelo (LLM)\n",
    "llm = ChatGoogleGenerativeAI(model=\"gemini-2.5-flash\", temperature=0)\n",
    "\n",
    "# 2. Creamos el Agente de Pandas\n",
    "agent_executor = create_pandas_dataframe_agent(\n",
    "    llm,\n",
    "    df, # Usamos el DataFrame 'df' cargado en la celda anterior\n",
    "    verbose=True,\n",
    "    allow_dangerous_code=True\n",
    ")\n",
    "\n",
    "# 3. ¡Hacemos una pregunta!\n",
    "pregunta = \"¿Cuántos avisos se crearon en el año 2021?\"\n",
    "respuesta = agent_executor.invoke({\"input\": pregunta})\n",
    "\n",
    "print(\"\\n\\n--- RESPUESTA FINAL ---\")\n",
    "print(respuesta[\"output\"])"
   ]
  },
  {
   "cell_type": "code",
   "execution_count": 9,
   "id": "75553efd-b0cc-4d3d-8c50-5344b6b0a854",
   "metadata": {},
   "outputs": [
    {
     "name": "stdout",
     "output_type": "stream",
     "text": [
      "Collecting langchain-deepseek\n",
      "  Downloading langchain_deepseek-0.1.4-py3-none-any.whl.metadata (1.1 kB)\n",
      "Requirement already satisfied: langchain-core<1.0.0,>=0.3.70 in /Users/feliperuizzea/Documents/2.Cursos_Programacion/venv-tf/lib/python3.11/site-packages (from langchain-deepseek) (0.3.79)\n",
      "Collecting langchain-openai<1.0.0,>=0.3.28 (from langchain-deepseek)\n",
      "  Downloading langchain_openai-0.3.35-py3-none-any.whl.metadata (2.4 kB)\n",
      "Requirement already satisfied: langsmith<1.0.0,>=0.3.45 in /Users/feliperuizzea/Documents/2.Cursos_Programacion/venv-tf/lib/python3.11/site-packages (from langchain-core<1.0.0,>=0.3.70->langchain-deepseek) (0.4.34)\n",
      "Requirement already satisfied: tenacity!=8.4.0,<10.0.0,>=8.1.0 in /Users/feliperuizzea/Documents/2.Cursos_Programacion/venv-tf/lib/python3.11/site-packages (from langchain-core<1.0.0,>=0.3.70->langchain-deepseek) (9.1.2)\n",
      "Requirement already satisfied: jsonpatch<2.0.0,>=1.33.0 in /Users/feliperuizzea/Documents/2.Cursos_Programacion/venv-tf/lib/python3.11/site-packages (from langchain-core<1.0.0,>=0.3.70->langchain-deepseek) (1.33)\n",
      "Requirement already satisfied: PyYAML<7.0.0,>=5.3.0 in /Users/feliperuizzea/Documents/2.Cursos_Programacion/venv-tf/lib/python3.11/site-packages (from langchain-core<1.0.0,>=0.3.70->langchain-deepseek) (6.0.2)\n",
      "Requirement already satisfied: typing-extensions<5.0.0,>=4.7.0 in /Users/feliperuizzea/Documents/2.Cursos_Programacion/venv-tf/lib/python3.11/site-packages (from langchain-core<1.0.0,>=0.3.70->langchain-deepseek) (4.15.0)\n",
      "Requirement already satisfied: packaging<26.0.0,>=23.2.0 in /Users/feliperuizzea/Documents/2.Cursos_Programacion/venv-tf/lib/python3.11/site-packages (from langchain-core<1.0.0,>=0.3.70->langchain-deepseek) (25.0)\n",
      "Requirement already satisfied: pydantic<3.0.0,>=2.7.4 in /Users/feliperuizzea/Documents/2.Cursos_Programacion/venv-tf/lib/python3.11/site-packages (from langchain-core<1.0.0,>=0.3.70->langchain-deepseek) (2.12.0)\n",
      "Requirement already satisfied: jsonpointer>=1.9 in /Users/feliperuizzea/Documents/2.Cursos_Programacion/venv-tf/lib/python3.11/site-packages (from jsonpatch<2.0.0,>=1.33.0->langchain-core<1.0.0,>=0.3.70->langchain-deepseek) (3.0.0)\n",
      "Collecting openai<3.0.0,>=1.104.2 (from langchain-openai<1.0.0,>=0.3.28->langchain-deepseek)\n",
      "  Downloading openai-2.3.0-py3-none-any.whl.metadata (29 kB)\n",
      "Collecting tiktoken<1.0.0,>=0.7.0 (from langchain-openai<1.0.0,>=0.3.28->langchain-deepseek)\n",
      "  Downloading tiktoken-0.12.0-cp311-cp311-macosx_11_0_arm64.whl.metadata (6.7 kB)\n",
      "Requirement already satisfied: httpx<1,>=0.23.0 in /Users/feliperuizzea/Documents/2.Cursos_Programacion/venv-tf/lib/python3.11/site-packages (from langsmith<1.0.0,>=0.3.45->langchain-core<1.0.0,>=0.3.70->langchain-deepseek) (0.28.1)\n",
      "Requirement already satisfied: orjson>=3.9.14 in /Users/feliperuizzea/Documents/2.Cursos_Programacion/venv-tf/lib/python3.11/site-packages (from langsmith<1.0.0,>=0.3.45->langchain-core<1.0.0,>=0.3.70->langchain-deepseek) (3.11.3)\n",
      "Requirement already satisfied: requests-toolbelt>=1.0.0 in /Users/feliperuizzea/Documents/2.Cursos_Programacion/venv-tf/lib/python3.11/site-packages (from langsmith<1.0.0,>=0.3.45->langchain-core<1.0.0,>=0.3.70->langchain-deepseek) (1.0.0)\n",
      "Requirement already satisfied: requests>=2.0.0 in /Users/feliperuizzea/Documents/2.Cursos_Programacion/venv-tf/lib/python3.11/site-packages (from langsmith<1.0.0,>=0.3.45->langchain-core<1.0.0,>=0.3.70->langchain-deepseek) (2.32.5)\n",
      "Requirement already satisfied: zstandard>=0.23.0 in /Users/feliperuizzea/Documents/2.Cursos_Programacion/venv-tf/lib/python3.11/site-packages (from langsmith<1.0.0,>=0.3.45->langchain-core<1.0.0,>=0.3.70->langchain-deepseek) (0.25.0)\n",
      "Requirement already satisfied: anyio in /Users/feliperuizzea/Documents/2.Cursos_Programacion/venv-tf/lib/python3.11/site-packages (from httpx<1,>=0.23.0->langsmith<1.0.0,>=0.3.45->langchain-core<1.0.0,>=0.3.70->langchain-deepseek) (4.11.0)\n",
      "Requirement already satisfied: certifi in /Users/feliperuizzea/Documents/2.Cursos_Programacion/venv-tf/lib/python3.11/site-packages (from httpx<1,>=0.23.0->langsmith<1.0.0,>=0.3.45->langchain-core<1.0.0,>=0.3.70->langchain-deepseek) (2025.4.26)\n",
      "Requirement already satisfied: httpcore==1.* in /Users/feliperuizzea/Documents/2.Cursos_Programacion/venv-tf/lib/python3.11/site-packages (from httpx<1,>=0.23.0->langsmith<1.0.0,>=0.3.45->langchain-core<1.0.0,>=0.3.70->langchain-deepseek) (1.0.9)\n",
      "Requirement already satisfied: idna in /Users/feliperuizzea/Documents/2.Cursos_Programacion/venv-tf/lib/python3.11/site-packages (from httpx<1,>=0.23.0->langsmith<1.0.0,>=0.3.45->langchain-core<1.0.0,>=0.3.70->langchain-deepseek) (3.10)\n",
      "Requirement already satisfied: h11>=0.16 in /Users/feliperuizzea/Documents/2.Cursos_Programacion/venv-tf/lib/python3.11/site-packages (from httpcore==1.*->httpx<1,>=0.23.0->langsmith<1.0.0,>=0.3.45->langchain-core<1.0.0,>=0.3.70->langchain-deepseek) (0.16.0)\n",
      "Collecting distro<2,>=1.7.0 (from openai<3.0.0,>=1.104.2->langchain-openai<1.0.0,>=0.3.28->langchain-deepseek)\n",
      "  Downloading distro-1.9.0-py3-none-any.whl.metadata (6.8 kB)\n",
      "Collecting jiter<1,>=0.10.0 (from openai<3.0.0,>=1.104.2->langchain-openai<1.0.0,>=0.3.28->langchain-deepseek)\n",
      "  Downloading jiter-0.11.0-cp311-cp311-macosx_11_0_arm64.whl.metadata (5.2 kB)\n",
      "Requirement already satisfied: sniffio in /Users/feliperuizzea/Documents/2.Cursos_Programacion/venv-tf/lib/python3.11/site-packages (from openai<3.0.0,>=1.104.2->langchain-openai<1.0.0,>=0.3.28->langchain-deepseek) (1.3.1)\n",
      "Requirement already satisfied: tqdm>4 in /Users/feliperuizzea/Documents/2.Cursos_Programacion/venv-tf/lib/python3.11/site-packages (from openai<3.0.0,>=1.104.2->langchain-openai<1.0.0,>=0.3.28->langchain-deepseek) (4.67.1)\n",
      "Requirement already satisfied: annotated-types>=0.6.0 in /Users/feliperuizzea/Documents/2.Cursos_Programacion/venv-tf/lib/python3.11/site-packages (from pydantic<3.0.0,>=2.7.4->langchain-core<1.0.0,>=0.3.70->langchain-deepseek) (0.7.0)\n",
      "Requirement already satisfied: pydantic-core==2.41.1 in /Users/feliperuizzea/Documents/2.Cursos_Programacion/venv-tf/lib/python3.11/site-packages (from pydantic<3.0.0,>=2.7.4->langchain-core<1.0.0,>=0.3.70->langchain-deepseek) (2.41.1)\n",
      "Requirement already satisfied: typing-inspection>=0.4.2 in /Users/feliperuizzea/Documents/2.Cursos_Programacion/venv-tf/lib/python3.11/site-packages (from pydantic<3.0.0,>=2.7.4->langchain-core<1.0.0,>=0.3.70->langchain-deepseek) (0.4.2)\n",
      "Collecting regex>=2022.1.18 (from tiktoken<1.0.0,>=0.7.0->langchain-openai<1.0.0,>=0.3.28->langchain-deepseek)\n",
      "  Downloading regex-2025.9.18-cp311-cp311-macosx_11_0_arm64.whl.metadata (40 kB)\n",
      "Requirement already satisfied: charset_normalizer<4,>=2 in /Users/feliperuizzea/Documents/2.Cursos_Programacion/venv-tf/lib/python3.11/site-packages (from requests>=2.0.0->langsmith<1.0.0,>=0.3.45->langchain-core<1.0.0,>=0.3.70->langchain-deepseek) (3.4.2)\n",
      "Requirement already satisfied: urllib3<3,>=1.21.1 in /Users/feliperuizzea/Documents/2.Cursos_Programacion/venv-tf/lib/python3.11/site-packages (from requests>=2.0.0->langsmith<1.0.0,>=0.3.45->langchain-core<1.0.0,>=0.3.70->langchain-deepseek) (2.4.0)\n",
      "Downloading langchain_deepseek-0.1.4-py3-none-any.whl (7.4 kB)\n",
      "Downloading langchain_openai-0.3.35-py3-none-any.whl (75 kB)\n",
      "Downloading openai-2.3.0-py3-none-any.whl (999 kB)\n",
      "\u001b[2K   \u001b[38;2;114;156;31m━━━━━━━━━━━━━━━━━━━━━━━━━━━━━━━━━━━━━━━━\u001b[0m \u001b[32m999.8/999.8 kB\u001b[0m \u001b[31m16.8 MB/s\u001b[0m eta \u001b[36m0:00:00\u001b[0m\n",
      "\u001b[?25hDownloading distro-1.9.0-py3-none-any.whl (20 kB)\n",
      "Downloading jiter-0.11.0-cp311-cp311-macosx_11_0_arm64.whl (317 kB)\n",
      "Downloading tiktoken-0.12.0-cp311-cp311-macosx_11_0_arm64.whl (995 kB)\n",
      "\u001b[2K   \u001b[38;2;114;156;31m━━━━━━━━━━━━━━━━━━━━━━━━━━━━━━━━━━━━━━━━\u001b[0m \u001b[32m995.3/995.3 kB\u001b[0m \u001b[31m12.5 MB/s\u001b[0m eta \u001b[36m0:00:00\u001b[0m\n",
      "\u001b[?25hDownloading regex-2025.9.18-cp311-cp311-macosx_11_0_arm64.whl (286 kB)\n",
      "Installing collected packages: regex, jiter, distro, tiktoken, openai, langchain-openai, langchain-deepseek\n",
      "\u001b[2K   \u001b[38;2;114;156;31m━━━━━━━━━━━━━━━━━━━━━━━━━━━━━━━━━━━━━━━━\u001b[0m \u001b[32m7/7\u001b[0m [langchain-deepseek][0m \u001b[32m4/7\u001b[0m [openai]\n",
      "\u001b[1A\u001b[2KSuccessfully installed distro-1.9.0 jiter-0.11.0 langchain-deepseek-0.1.4 langchain-openai-0.3.35 openai-2.3.0 regex-2025.9.18 tiktoken-0.12.0\n",
      "\n",
      "\u001b[1m[\u001b[0m\u001b[34;49mnotice\u001b[0m\u001b[1;39;49m]\u001b[0m\u001b[39;49m A new release of pip is available: \u001b[0m\u001b[31;49m25.1.1\u001b[0m\u001b[39;49m -> \u001b[0m\u001b[32;49m25.2\u001b[0m\n",
      "\u001b[1m[\u001b[0m\u001b[34;49mnotice\u001b[0m\u001b[1;39;49m]\u001b[0m\u001b[39;49m To update, run: \u001b[0m\u001b[32;49m/Users/feliperuizzea/Documents/2.Cursos_Programacion/venv-tf/bin/python -m pip install --upgrade pip\u001b[0m\n",
      "Note: you may need to restart the kernel to use updated packages.\n"
     ]
    }
   ],
   "source": [
    "pip install langchain-deepseek"
   ]
  }
 ],
 "metadata": {
  "kernelspec": {
   "display_name": "Python (venv-tf)",
   "language": "python",
   "name": "venv-tf"
  },
  "language_info": {
   "codemirror_mode": {
    "name": "ipython",
    "version": 3
   },
   "file_extension": ".py",
   "mimetype": "text/x-python",
   "name": "python",
   "nbconvert_exporter": "python",
   "pygments_lexer": "ipython3",
   "version": "3.11.9"
  }
 },
 "nbformat": 4,
 "nbformat_minor": 5
}
