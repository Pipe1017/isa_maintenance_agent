{
 "cells": [
  {
   "cell_type": "code",
   "execution_count": 1,
   "id": "c623a08c-4293-4e13-83f1-f6f28adc96b3",
   "metadata": {},
   "outputs": [
    {
     "name": "stdout",
     "output_type": "stream",
     "text": [
      "✅ Datos cargados y limpiados exitosamente.\n",
      "DataFrame listo para el agente.\n"
     ]
    },
    {
     "name": "stderr",
     "output_type": "stream",
     "text": [
      "/var/folders/8p/q51pz9mn38d4_725jygnhwhh0000gn/T/ipykernel_10542/161736267.py:15: FutureWarning: A value is trying to be set on a copy of a DataFrame or Series through chained assignment using an inplace method.\n",
      "The behavior will change in pandas 3.0. This inplace method will never work because the intermediate object on which we are setting values always behaves as a copy.\n",
      "\n",
      "For example, when doing 'df[col].method(value, inplace=True)', try using 'df.method({col: value}, inplace=True)' or df[col] = df[col].method(value) instead, to perform the operation inplace on the original object.\n",
      "\n",
      "\n",
      "  df['indicador_abc'].fillna('No Especificado', inplace=True)\n"
     ]
    }
   ],
   "source": [
    "import pandas as pd\n",
    "import os\n",
    "\n",
    "def load_and_clean_data(filepath: str) -> pd.DataFrame:\n",
    "    \"\"\"Carga, limpia y prepara el DataFrame de avisos desde un archivo Excel.\"\"\"\n",
    "    try:\n",
    "        df = pd.read_excel(filepath)\n",
    "    except FileNotFoundError:\n",
    "        print(f\"¡ERROR! No se encontró el archivo con nombre: '{filepath}'\")\n",
    "        return None\n",
    "    df.columns = df.columns.str.lower().str.replace(' ', '_').str.replace('.', '', regex=False)\n",
    "    date_columns = ['creado_el', 'inicio_deseado', 'fin_deseado', 'fecha_de_cierre']\n",
    "    for col in date_columns:\n",
    "        df[col] = pd.to_datetime(df[col], errors='coerce')\n",
    "    df['indicador_abc'].fillna('No Especificado', inplace=True)\n",
    "    print(\"✅ Datos cargados y limpiados exitosamente.\")\n",
    "    return df\n",
    "\n",
    "df = load_and_clean_data('avisos_prueba_tecnica.xlsx')\n",
    "if df is not None:\n",
    "    print(\"DataFrame listo para el agente.\")"
   ]
  },
  {
   "cell_type": "code",
   "execution_count": 2,
   "id": "965b9b23-ff24-4d80-aa1c-e168ee04f56b",
   "metadata": {},
   "outputs": [
    {
     "name": "stdout",
     "output_type": "stream",
     "text": [
      "\n",
      "\n",
      "\u001b[1m> Entering new AgentExecutor chain...\u001b[0m\n",
      "\u001b[32;1m\u001b[1;3mThought: I need to find the most common \"clase_de_aviso\" value and count how many there are of that class. I can use value_counts() on the \"clase_de_aviso\" column to get the frequency of each class, then find the one with the highest count.\n",
      "\n",
      "Action: python_repl_ast\n",
      "Action Input: df['clase_de_aviso'].value_counts()\u001b[0m\u001b[36;1m\u001b[1;3mclase_de_aviso\n",
      "N4    439\n",
      "N2    104\n",
      "Name: count, dtype: int64\u001b[0m\u001b[32;1m\u001b[1;3mBased on the value counts, I can see that the most common \"clase_de_aviso\" is N4 with 439 occurrences, followed by N2 with 104 occurrences.\n",
      "\n",
      "Final Answer: La clase de aviso más común es N4 y hay 439 avisos de esa clase.\u001b[0m\n",
      "\n",
      "\u001b[1m> Finished chain.\u001b[0m\n",
      "\n",
      "\n",
      "--- RESPUESTA FINAL (DeepSeek API) ---\n",
      "La clase de aviso más común es N4 y hay 439 avisos de esa clase.\n"
     ]
    }
   ],
   "source": [
    "from langchain_deepseek import ChatDeepSeek\n",
    "from langchain_experimental.agents.agent_toolkits import create_pandas_dataframe_agent\n",
    "from dotenv import load_dotenv\n",
    "import pandas as pd\n",
    "\n",
    "# Asumiendo que 'df' ya está cargado de una celda anterior.\n",
    "# Si no, incluye aquí la función load_and_clean_data y la carga del df.\n",
    "\n",
    "# --- CORRECCIÓN AQUÍ ---\n",
    "# Carga las claves del archivo .env que está en la carpeta raíz\n",
    "load_dotenv('../.env')\n",
    "\n",
    "# 1. Inicializamos el Modelo usando la API de DeepSeek\n",
    "llm = ChatDeepSeek(model=\"deepseek-chat\", temperature=0)\n",
    "\n",
    "# 2. Creamos el Agente de Pandas\n",
    "agent_executor = create_pandas_dataframe_agent(\n",
    "    llm,\n",
    "    df,\n",
    "    verbose=True,\n",
    "    allow_dangerous_code=True\n",
    ")\n",
    "\n",
    "# 3. Hacemos la misma pregunta para comparar resultados\n",
    "pregunta = \"¿Cuál es la clase de aviso más común y cuántos hay de esa clase?\"\n",
    "respuesta = agent_executor.invoke({\"input\": pregunta})\n",
    "\n",
    "print(\"\\n\\n--- RESPUESTA FINAL (DeepSeek API) ---\")\n",
    "print(respuesta[\"output\"])"
   ]
  }
 ],
 "metadata": {
  "kernelspec": {
   "display_name": "Python (venv-tf)",
   "language": "python",
   "name": "venv-tf"
  },
  "language_info": {
   "codemirror_mode": {
    "name": "ipython",
    "version": 3
   },
   "file_extension": ".py",
   "mimetype": "text/x-python",
   "name": "python",
   "nbconvert_exporter": "python",
   "pygments_lexer": "ipython3",
   "version": "3.11.9"
  }
 },
 "nbformat": 4,
 "nbformat_minor": 5
}
